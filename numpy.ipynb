{
 "cells": [
  {
   "cell_type": "code",
   "execution_count": 17,
   "id": "7874ca69",
   "metadata": {},
   "outputs": [
    {
     "name": "stdout",
     "output_type": "stream",
     "text": [
      "[[   1 6012]\n",
      " [   2 7079]\n",
      " [   3 6886]\n",
      " [   4 7230]\n",
      " [   5 4598]\n",
      " [   6 5564]\n",
      " [   7 6971]\n",
      " [   8 7763]\n",
      " [   9 8032]\n",
      " [  10 9569]]\n",
      "steps after 7am [[    1  8012]\n",
      " [    2  9079]\n",
      " [    3  8886]\n",
      " [    4  9230]\n",
      " [    5  6598]\n",
      " [    6  7564]\n",
      " [    7  8971]\n",
      " [    8  9763]\n",
      " [    9 10032]\n",
      " [   10 11569]]\n",
      "[[    2  9079]\n",
      " [    4  9230]\n",
      " [    8  9763]\n",
      " [    9 10032]\n",
      " [   10 11569]]\n",
      "[4598 5564 6012 6886 6971 7079 7230 7763 8032 9569]\n"
     ]
    },
    {
     "data": {
      "text/plain": [
       "array([[    5,  6598],\n",
       "       [    6,  7564],\n",
       "       [    1,  8012],\n",
       "       [    3,  8886],\n",
       "       [    7,  8971],\n",
       "       [    2,  9079],\n",
       "       [    4,  9230],\n",
       "       [    8,  9763],\n",
       "       [    9, 10032],\n",
       "       [   10, 11569]])"
      ]
     },
     "execution_count": 17,
     "metadata": {},
     "output_type": "execute_result"
    }
   ],
   "source": [
    "import numpy as np\n",
    "\n",
    "steps= np.array([[1,6012], [2,7079], [3,6886],[4,7230],[5,4598],[6,5564],[7,6971], [8,7763],[9,8032],[10,9569]]) \n",
    "steps_walked = np.array([6012,7079,6886,7230,4598,5564,6971,7763,8032,9569]) \n",
    "print(steps)\n",
    "\n",
    "add_step=np.array([0,2000])\n",
    "step2=np.add(steps,add_step) \n",
    "print('steps after 7am',step2)\n",
    "\n",
    "x=np.where(step2[:,1]>9000)\n",
    "print(step2[x]) \n",
    "\n",
    "sorted_steps=np.sort(steps_walked)\n",
    "print(sorted_steps)\n",
    "\n",
    "sorted=step2[:,1].argsort()\n",
    "step2[sorted]"
   ]
  },
  {
   "cell_type": "code",
   "execution_count": 15,
   "id": "db858170",
   "metadata": {},
   "outputs": [
    {
     "name": "stdout",
     "output_type": "stream",
     "text": [
      "[[    2  9079]\n",
      " [    4  9230]\n",
      " [    8  9763]\n",
      " [    9 10032]\n",
      " [   10 11569]]\n"
     ]
    }
   ],
   "source": [
    "x=np.where(step2[:,1]>9000)\n",
    "print(step2[x])\n"
   ]
  },
  {
   "cell_type": "code",
   "execution_count": 16,
   "id": "4310a5e3",
   "metadata": {},
   "outputs": [
    {
     "name": "stdout",
     "output_type": "stream",
     "text": [
      "[[[   1 4598]\n",
      "  [   2 5564]\n",
      "  [   3 6012]\n",
      "  [   4 6886]\n",
      "  [   5 6971]\n",
      "  [   6 7079]\n",
      "  [   7 7230]\n",
      "  [   8 7763]\n",
      "  [   9 8032]\n",
      "  [  10 9569]]]\n"
     ]
    }
   ],
   "source": [
    "sorted_steps=steps[steps[:,1].sort()]\n",
    "print(sorted_steps)"
   ]
  },
  {
   "cell_type": "code",
   "execution_count": 21,
   "id": "9b2b0025",
   "metadata": {},
   "outputs": [
    {
     "name": "stdout",
     "output_type": "stream",
     "text": [
      "10\n",
      "[4 6]\n",
      "[3 7]\n"
     ]
    }
   ],
   "source": [
    "import numpy as np\n",
    "#sum\n",
    "arr = np.array([[1, 2], [3, 4]])\n",
    "print(np.sum(arr)) # Output: 10\n",
    "print(np.sum(arr, axis=0)) \n",
    "print(np.sum(arr, axis=1))\n"
   ]
  },
  {
   "cell_type": "code",
   "execution_count": 20,
   "id": "dc75e971",
   "metadata": {},
   "outputs": [
    {
     "name": "stdout",
     "output_type": "stream",
     "text": [
      "2.5\n",
      "[2. 3.]\n",
      "[1.5 3.5]\n"
     ]
    }
   ],
   "source": [
    "#mean\n",
    "arr = np.array([[1, 2], [3, 4]])\n",
    "print(np.mean(arr))\n",
    "print(np.mean(arr, axis=0)) \n",
    "print(np.mean(arr, axis=1)) "
   ]
  },
  {
   "cell_type": "code",
   "execution_count": 22,
   "id": "c4ee449e",
   "metadata": {},
   "outputs": [
    {
     "name": "stdout",
     "output_type": "stream",
     "text": [
      "4\n",
      "[3 4]\n",
      "[2 4]\n",
      "1\n",
      "[1 2]\n",
      "[1 3]\n"
     ]
    }
   ],
   "source": [
    "#min\n",
    "import numpy as np\n",
    "arr = np.array([[1, 2], [3, 4]])\n",
    "print(np.max(arr)) \n",
    "print(np.max(arr, axis=0)) \n",
    "print(np.max(arr, axis=1))\n",
    "print(np.min(arr)) \n",
    "print(np.min(arr, axis=0)) \n",
    "print(np.min(arr, axis=1))\n"
   ]
  },
  {
   "cell_type": "code",
   "execution_count": 23,
   "id": "225b35d3",
   "metadata": {},
   "outputs": [
    {
     "name": "stdout",
     "output_type": "stream",
     "text": [
      "2.5\n",
      "[2. 3.]\n",
      "[1.5 3.5]\n"
     ]
    }
   ],
   "source": [
    "import numpy as np\n",
    "arr = np.array([[1, 2], [3, 4]])\n",
    "print(np.median(arr)) \n",
    "print(np.median(arr, axis=0))\n",
    "print(np.median(arr, axis=1))"
   ]
  },
  {
   "cell_type": "code",
   "execution_count": 25,
   "id": "ee43ff2f",
   "metadata": {},
   "outputs": [
    {
     "name": "stdout",
     "output_type": "stream",
     "text": [
      "24\n",
      "[3 8]\n",
      "[ 2 12]\n"
     ]
    }
   ],
   "source": [
    "import numpy as np\n",
    "arr = np.array([[1, 2], [3, 4]])\n",
    "print(np.prod(arr)) \n",
    "print(np.prod(arr, axis=0)) \n",
    "print(np.prod(arr, axis=1)) "
   ]
  },
  {
   "cell_type": "code",
   "execution_count": 26,
   "id": "9d2dc8b7",
   "metadata": {},
   "outputs": [
    {
     "name": "stdout",
     "output_type": "stream",
     "text": [
      "1.118033988749895\n",
      "[1. 1.]\n",
      "[0.5 0.5]\n"
     ]
    }
   ],
   "source": [
    "import numpy as np\n",
    "arr = np.array([[1, 2], [3, 4]])\n",
    "print(np.std(arr))\n",
    "print(np.std(arr, axis=0)) \n",
    "print(np.std(arr, axis=1)) "
   ]
  },
  {
   "cell_type": "code",
   "execution_count": 27,
   "id": "1bbd7ae0",
   "metadata": {},
   "outputs": [
    {
     "name": "stdout",
     "output_type": "stream",
     "text": [
      "1.25\n",
      "[1. 1.]\n",
      "[0.25 0.25]\n"
     ]
    }
   ],
   "source": [
    "import numpy as np\n",
    "arr = np.array([[1, 2], [3, 4]])\n",
    "print(np.var(arr))\n",
    "print(np.var(arr, axis=0)) \n",
    "print(np.var(arr, axis=1))  "
   ]
  },
  {
   "cell_type": "code",
   "execution_count": 28,
   "id": "cf0cc93a",
   "metadata": {},
   "outputs": [
    {
     "name": "stdout",
     "output_type": "stream",
     "text": [
      "[5 7 9]\n"
     ]
    }
   ],
   "source": [
    "import numpy as np\n",
    "arr1 = np.array([1, 2, 3])\n",
    "arr2 = np.array([4, 5, 6])\n",
    "result = arr1 + arr2\n",
    "print(result) "
   ]
  },
  {
   "cell_type": "code",
   "execution_count": 29,
   "id": "9e6a25f0",
   "metadata": {},
   "outputs": [
    {
     "name": "stdout",
     "output_type": "stream",
     "text": [
      "[3 3 3]\n"
     ]
    }
   ],
   "source": [
    "import numpy as np\n",
    "arr1 = np.array([4, 5, 6])\n",
    "arr2 = np.array([1, 2, 3])\n",
    "result = arr1 - arr2\n",
    "print(result) "
   ]
  },
  {
   "cell_type": "code",
   "execution_count": 30,
   "id": "fc905de4",
   "metadata": {},
   "outputs": [
    {
     "name": "stdout",
     "output_type": "stream",
     "text": [
      "[ 4 10 18]\n"
     ]
    }
   ],
   "source": [
    "import numpy as np\n",
    "arr1 = np.array([1, 2, 3])\n",
    "arr2 = np.array([4, 5, 6])\n",
    "result = arr1 * arr2\n",
    "print(result)\n"
   ]
  },
  {
   "cell_type": "code",
   "execution_count": 31,
   "id": "7ea83724",
   "metadata": {},
   "outputs": [
    {
     "name": "stdout",
     "output_type": "stream",
     "text": [
      "[2. 2. 2.]\n"
     ]
    }
   ],
   "source": [
    "import numpy as np\n",
    "arr1 = np.array([4, 6, 8])\n",
    "arr2 = np.array([2, 3, 4])\n",
    "result = arr1 / arr2\n",
    "print(result) "
   ]
  },
  {
   "cell_type": "code",
   "execution_count": 32,
   "id": "45340f12",
   "metadata": {},
   "outputs": [
    {
     "name": "stdout",
     "output_type": "stream",
     "text": [
      "[ 4  9 16]\n"
     ]
    }
   ],
   "source": [
    "import numpy as np\n",
    "arr = np.array([2, 3, 4])\n",
    "result = arr ** 2\n",
    "print(result) "
   ]
  },
  {
   "cell_type": "code",
   "execution_count": 34,
   "id": "fe848e94",
   "metadata": {},
   "outputs": [
    {
     "name": "stdout",
     "output_type": "stream",
     "text": [
      "[2. 3. 4.]\n"
     ]
    }
   ],
   "source": [
    "import numpy as np\n",
    "arr = np.array([4, 9, 16])\n",
    "result = np.sqrt(arr)\n",
    "print(result) "
   ]
  },
  {
   "cell_type": "code",
   "execution_count": 35,
   "id": "783463a4",
   "metadata": {},
   "outputs": [
    {
     "name": "stdout",
     "output_type": "stream",
     "text": [
      "[False  True  True]\n"
     ]
    }
   ],
   "source": [
    "import numpy as np\n",
    "arr1 = np.array([1, 2, 3])\n",
    "arr2 = np.array([2, 2, 3])\n",
    "result = arr1 == arr2\n",
    "print(result)"
   ]
  },
  {
   "cell_type": "code",
   "execution_count": 36,
   "id": "d8e4891f",
   "metadata": {},
   "outputs": [
    {
     "name": "stdout",
     "output_type": "stream",
     "text": [
      "3.5\n",
      "[0.81649658 0.81649658]\n",
      "[5 7 9]\n"
     ]
    }
   ],
   "source": [
    "import numpy as np\n",
    "arr = np.array([[1, 2, 3], [4, 5, 6]])\n",
    "result_mean = np.mean(arr)\n",
    "result_std = np.std(arr, axis=1)\n",
    "result_sum = np.sum(arr, axis=0)\n",
    "print(result_mean) \n",
    "print(result_std) \n",
    "print(result_sum) "
   ]
  },
  {
   "cell_type": "code",
   "execution_count": null,
   "id": "c9c26784",
   "metadata": {},
   "outputs": [],
   "source": []
  }
 ],
 "metadata": {
  "kernelspec": {
   "display_name": "Python 3 (ipykernel)",
   "language": "python",
   "name": "python3"
  },
  "language_info": {
   "codemirror_mode": {
    "name": "ipython",
    "version": 3
   },
   "file_extension": ".py",
   "mimetype": "text/x-python",
   "name": "python",
   "nbconvert_exporter": "python",
   "pygments_lexer": "ipython3",
   "version": "3.11.3"
  }
 },
 "nbformat": 4,
 "nbformat_minor": 5
}
