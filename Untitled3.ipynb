{
 "cells": [
  {
   "cell_type": "code",
   "execution_count": 4,
   "id": "1f237816",
   "metadata": {},
   "outputs": [
    {
     "name": "stdout",
     "output_type": "stream",
     "text": [
      "(array([0, 1, 3, 4, 5], dtype=int64),)\n",
      "[150 180  68 102 156]\n"
     ]
    }
   ],
   "source": [
    "import numpy as np\n",
    "horsepower =np.array ([150,180,42,68,102,156])\n",
    "x=np.where(horsepower >=68)\n",
    "print(x)\n",
    "print(horsepower [x])"
   ]
  },
  {
   "cell_type": "code",
   "execution_count": 15,
   "id": "de827a71",
   "metadata": {},
   "outputs": [
    {
     "data": {
      "text/plain": [
       "array([[68, 25],\n",
       "       [60, 82],\n",
       "       [46, 73],\n",
       "       [55, 20]])"
      ]
     },
     "execution_count": 15,
     "metadata": {},
     "output_type": "execute_result"
    }
   ],
   "source": [
    "s_m = np.array([[68, 25],[60, 82],[46, 73],[55, 20]])\n",
    "s_m"
   ]
  },
  {
   "cell_type": "code",
   "execution_count": null,
   "id": "86bd1b47",
   "metadata": {},
   "outputs": [],
   "source": []
  }
 ],
 "metadata": {
  "kernelspec": {
   "display_name": "Python 3 (ipykernel)",
   "language": "python",
   "name": "python3"
  },
  "language_info": {
   "codemirror_mode": {
    "name": "ipython",
    "version": 3
   },
   "file_extension": ".py",
   "mimetype": "text/x-python",
   "name": "python",
   "nbconvert_exporter": "python",
   "pygments_lexer": "ipython3",
   "version": "3.11.3"
  }
 },
 "nbformat": 4,
 "nbformat_minor": 5
}
